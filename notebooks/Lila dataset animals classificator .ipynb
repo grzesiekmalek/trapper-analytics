{
 "cells": [
  {
   "cell_type": "code",
   "execution_count": 15,
   "metadata": {},
   "outputs": [],
   "source": [
    "import gc\n",
    "import os\n",
    "import json\n",
    "import logging\n",
    "import datetime\n",
    "import warnings\n",
    "import numpy as np\n",
    "import pandas as pd\n",
    "import seaborn as sns\n",
    "from PIL import Image\n",
    "import matplotlib.pyplot as plt\n",
    "import keras\n",
    "from keras import layers\n",
    "from keras.applications import DenseNet121\n",
    "from keras.callbacks import Callback, ModelCheckpoint\n",
    "from keras.preprocessing.image import ImageDataGenerator\n",
    "from keras.layers import Dense, Dropout, Activation, Flatten\n",
    "from keras.layers import Conv2D, MaxPooling2D\n",
    "from keras.models import Sequential\n",
    "from sklearn.model_selection import train_test_split\n",
    "from sklearn.metrics import confusion_matrix, f1_score, precision_score, recall_score\n",
    "warnings.filterwarnings('ignore')\n",
    "import json\n"
   ]
  },
  {
   "cell_type": "code",
   "execution_count": 66,
   "metadata": {},
   "outputs": [],
   "source": [
    "pd.set_option('display.max_columns', None)"
   ]
  },
  {
   "cell_type": "markdown",
   "metadata": {},
   "source": [
    "https://beerys.github.io/CaltechCameraTraps/   - link to data description"
   ]
  },
  {
   "cell_type": "markdown",
   "metadata": {},
   "source": [
    "http://lila.science/datasets/caltech-camera-traps\n",
    "This data set contains 243,100 images from 140 camera locations in the Southwestern United States, with labels for 21 animal categories (plus empty), primarily at the species level (for example, the most common labels are opossum, raccoon, and coyote), and approximately 66,000 bounding box annotations. Approximately 70% of images are labeled as empty."
   ]
  },
  {
   "cell_type": "code",
   "execution_count": 13,
   "metadata": {
    "scrolled": false
   },
   "outputs": [
    {
     "data": {
      "text/plain": [
       "['5971f954-23d2-11e8-a6a3-ec086b02610b.jpg',\n",
       " '59862578-23d2-11e8-a6a3-ec086b02610b.jpg',\n",
       " '59da8b91-23d2-11e8-a6a3-ec086b02610b.jpg',\n",
       " '58a8a3c5-23d2-11e8-a6a3-ec086b02610b.jpg',\n",
       " '595add68-23d2-11e8-a6a3-ec086b02610b.jpg',\n",
       " '58e40ea5-23d2-11e8-a6a3-ec086b02610b.jpg',\n",
       " '5938c3b3-23d2-11e8-a6a3-ec086b02610b.jpg',\n",
       " '599a5afa-23d2-11e8-a6a3-ec086b02610b.jpg',\n",
       " '586fdec2-23d2-11e8-a6a3-ec086b02610b.jpg',\n",
       " '58b9d795-23d2-11e8-a6a3-ec086b02610b.jpg']"
      ]
     },
     "execution_count": 13,
     "metadata": {},
     "output_type": "execute_result"
    }
   ],
   "source": [
    "PATH=\"cct_images/\"\n",
    "os.listdir(PATH)[:10]\n"
   ]
  },
  {
   "cell_type": "markdown",
   "metadata": {},
   "source": [
    "## BOXES"
   ]
  },
  {
   "cell_type": "code",
   "execution_count": 20,
   "metadata": {},
   "outputs": [],
   "source": [
    "#open json files  - BOXES\n",
    "with open('caltech_bboxes_20200316.json') as f:\n",
    "    data = f.read()\n",
    "    boxes = json.loads(data)\n",
    "    "
   ]
  },
  {
   "cell_type": "code",
   "execution_count": 22,
   "metadata": {},
   "outputs": [
    {
     "data": {
      "text/plain": [
       "dict_keys(['info', 'categories', 'annotations', 'images'])"
      ]
     },
     "execution_count": 22,
     "metadata": {},
     "output_type": "execute_result"
    }
   ],
   "source": [
    "boxes.keys()"
   ]
  },
  {
   "cell_type": "code",
   "execution_count": 23,
   "metadata": {},
   "outputs": [
    {
     "data": {
      "text/plain": [
       "{'contributor': 'Sara Beery',\n",
       " 'version': '20200316',\n",
       " 'year': 2018,\n",
       " 'date_created': '2019-09-23 06:59:06.304889',\n",
       " 'description': 'Bounding box annotations for 63,025 images from Caltech Camera Traps, where the images only have one species label or are empty. Contains all annotations for CCT - 20, the 20-location dataset used in the ECCV18 paper \"Recognition in Terra Incognita,\" as well as additional annotations collected by MS AI for Earth.'}"
      ]
     },
     "execution_count": 23,
     "metadata": {},
     "output_type": "execute_result"
    }
   ],
   "source": [
    "boxes['info']"
   ]
  },
  {
   "cell_type": "code",
   "execution_count": 24,
   "metadata": {
    "scrolled": true
   },
   "outputs": [
    {
     "data": {
      "text/plain": [
       "[{'id': 6, 'name': 'bobcat'},\n",
       " {'id': 1, 'name': 'opossum'},\n",
       " {'id': 30, 'name': 'empty'},\n",
       " {'id': 9, 'name': 'coyote'},\n",
       " {'id': 3, 'name': 'raccoon'},\n",
       " {'id': 11, 'name': 'bird'},\n",
       " {'id': 8, 'name': 'dog'},\n",
       " {'id': 16, 'name': 'cat'},\n",
       " {'id': 5, 'name': 'squirrel'},\n",
       " {'id': 10, 'name': 'rabbit'},\n",
       " {'id': 7, 'name': 'skunk'},\n",
       " {'id': 14, 'name': 'lizard'},\n",
       " {'id': 99, 'name': 'rodent'},\n",
       " {'id': 21, 'name': 'badger'},\n",
       " {'id': 34, 'name': 'deer'},\n",
       " {'id': 37, 'name': 'cow'},\n",
       " {'id': 33, 'name': 'car'},\n",
       " {'id': 51, 'name': 'fox'},\n",
       " {'id': 39, 'name': 'pig'},\n",
       " {'id': 40, 'name': 'mountain_lion'},\n",
       " {'id': 66, 'name': 'bat'},\n",
       " {'id': 97, 'name': 'insect'}]"
      ]
     },
     "execution_count": 24,
     "metadata": {},
     "output_type": "execute_result"
    }
   ],
   "source": [
    "boxes['categories']"
   ]
  },
  {
   "cell_type": "code",
   "execution_count": 29,
   "metadata": {
    "scrolled": true
   },
   "outputs": [
    {
     "data": {
      "text/plain": [
       "22"
      ]
     },
     "execution_count": 29,
     "metadata": {},
     "output_type": "execute_result"
    }
   ],
   "source": [
    "#  22 framed objects \n",
    "len(boxes['categories'])"
   ]
  },
  {
   "cell_type": "code",
   "execution_count": 28,
   "metadata": {
    "scrolled": true
   },
   "outputs": [
    {
     "data": {
      "text/plain": [
       "['bobcat',\n",
       " 'opossum',\n",
       " 'empty',\n",
       " 'coyote',\n",
       " 'raccoon',\n",
       " 'bird',\n",
       " 'dog',\n",
       " 'cat',\n",
       " 'squirrel',\n",
       " 'rabbit',\n",
       " 'skunk',\n",
       " 'lizard',\n",
       " 'rodent',\n",
       " 'badger',\n",
       " 'deer',\n",
       " 'cow',\n",
       " 'car',\n",
       " 'fox',\n",
       " 'pig',\n",
       " 'mountain_lion',\n",
       " 'bat',\n",
       " 'insect']"
      ]
     },
     "execution_count": 28,
     "metadata": {},
     "output_type": "execute_result"
    }
   ],
   "source": [
    "[obj['name'] for obj in boxes['categories']]"
   ]
  },
  {
   "cell_type": "markdown",
   "metadata": {},
   "source": [
    "With translations:\n",
    "'ryś amerykański',  'opos',  'pusty',  'kojot',  'szop pracz',  'ptak',  'pies',  'kot',  'wiewiórka', \n",
    "'Królik',  'skunks',  'jaszczurka',  'gryzoń', 'borsuk',  'jeleń',  'krowa',  'samochód',  'lis',  'świnia',\n",
    "'Lew górski',  'nietoperz','owad'"
   ]
  },
  {
   "cell_type": "code",
   "execution_count": 36,
   "metadata": {},
   "outputs": [
    {
     "data": {
      "text/plain": [
       "65112"
      ]
     },
     "execution_count": 36,
     "metadata": {},
     "output_type": "execute_result"
    }
   ],
   "source": [
    "# number of annotations\n",
    "len(boxes['annotations'])"
   ]
  },
  {
   "cell_type": "code",
   "execution_count": 31,
   "metadata": {},
   "outputs": [
    {
     "data": {
      "text/plain": [
       "[{'image_id': '5998cfa4-23d2-11e8-a6a3-ec086b02610b',\n",
       "  'id': '2a545520-cbf1-11e8-819c-970a9450cdbc',\n",
       "  'bbox': [499.2, 711.68, 353.28000000000003, 199.67999999999995],\n",
       "  'category_id': 1},\n",
       " {'image_id': '588a679f-23d2-11e8-a6a3-ec086b02610b',\n",
       "  'id': '2a54562e-cbf1-11e8-819c-970a9450cdbc',\n",
       "  'bbox': [985.6, 783.36, 368.64, 230.39999999999998],\n",
       "  'category_id': 1}]"
      ]
     },
     "execution_count": 31,
     "metadata": {},
     "output_type": "execute_result"
    }
   ],
   "source": [
    "# \n",
    "boxes['annotations'][:2]"
   ]
  },
  {
   "cell_type": "code",
   "execution_count": 34,
   "metadata": {},
   "outputs": [
    {
     "data": {
      "text/plain": [
       "[{'file_name': '5998cfa4-23d2-11e8-a6a3-ec086b02610b.jpg',\n",
       "  'seq_id': '6f084ccc-5567-11e8-bc84-dca9047ef277',\n",
       "  'height': 1494,\n",
       "  'id': '5998cfa4-23d2-11e8-a6a3-ec086b02610b',\n",
       "  'frame_num': 1,\n",
       "  'width': 2048,\n",
       "  'date_captured': '2011-05-13 23:43:18',\n",
       "  'rights_holder': 'Justin Brown',\n",
       "  'seq_num_frames': 3,\n",
       "  'location': '33'},\n",
       " {'file_name': '588a679f-23d2-11e8-a6a3-ec086b02610b.jpg',\n",
       "  'seq_id': '6f12067d-5567-11e8-b3c0-dca9047ef277',\n",
       "  'height': 1494,\n",
       "  'id': '588a679f-23d2-11e8-a6a3-ec086b02610b',\n",
       "  'frame_num': 2,\n",
       "  'width': 2048,\n",
       "  'date_captured': '2012-03-17 03:48:44',\n",
       "  'rights_holder': 'Justin Brown',\n",
       "  'seq_num_frames': 3,\n",
       "  'location': '115'}]"
      ]
     },
     "execution_count": 34,
     "metadata": {},
     "output_type": "execute_result"
    }
   ],
   "source": [
    "boxes['images'][:2]"
   ]
  },
  {
   "cell_type": "code",
   "execution_count": 38,
   "metadata": {},
   "outputs": [
    {
     "data": {
      "text/plain": [
       "63025"
      ]
     },
     "execution_count": 38,
     "metadata": {},
     "output_type": "execute_result"
    }
   ],
   "source": [
    "# number of images \n",
    "len(boxes['images'])"
   ]
  },
  {
   "cell_type": "code",
   "execution_count": 40,
   "metadata": {},
   "outputs": [
    {
     "data": {
      "text/plain": [
       "2087"
      ]
     },
     "execution_count": 40,
     "metadata": {},
     "output_type": "execute_result"
    }
   ],
   "source": [
    "# there are photos with more than one object\n",
    "len(boxes['annotations'])-len(boxes['images'])"
   ]
  },
  {
   "cell_type": "code",
   "execution_count": 98,
   "metadata": {
    "scrolled": false
   },
   "outputs": [
    {
     "data": {
      "text/html": [
       "<div>\n",
       "<style scoped>\n",
       "    .dataframe tbody tr th:only-of-type {\n",
       "        vertical-align: middle;\n",
       "    }\n",
       "\n",
       "    .dataframe tbody tr th {\n",
       "        vertical-align: top;\n",
       "    }\n",
       "\n",
       "    .dataframe thead th {\n",
       "        text-align: right;\n",
       "    }\n",
       "</style>\n",
       "<table border=\"1\" class=\"dataframe\">\n",
       "  <thead>\n",
       "    <tr style=\"text-align: right;\">\n",
       "      <th></th>\n",
       "      <th>image_id</th>\n",
       "      <th>id</th>\n",
       "      <th>bbox</th>\n",
       "      <th>category_id</th>\n",
       "    </tr>\n",
       "  </thead>\n",
       "  <tbody>\n",
       "    <tr>\n",
       "      <th>0</th>\n",
       "      <td>5998cfa4-23d2-11e8-a6a3-ec086b02610b</td>\n",
       "      <td>2a545520-cbf1-11e8-819c-970a9450cdbc</td>\n",
       "      <td>[499.2, 711.68, 353.28000000000003, 199.679999...</td>\n",
       "      <td>1</td>\n",
       "    </tr>\n",
       "  </tbody>\n",
       "</table>\n",
       "</div>"
      ],
      "text/plain": [
       "                               image_id                                    id  \\\n",
       "0  5998cfa4-23d2-11e8-a6a3-ec086b02610b  2a545520-cbf1-11e8-819c-970a9450cdbc   \n",
       "\n",
       "                                                bbox  category_id  \n",
       "0  [499.2, 711.68, 353.28000000000003, 199.679999...            1  "
      ]
     },
     "execution_count": 98,
     "metadata": {},
     "output_type": "execute_result"
    }
   ],
   "source": [
    "im_b = pd.DataFrame(boxes['images'])\n",
    "im_b.columns=['file_name', 'seq_id', 'height', 'image_id', 'frame_num', 'width','date_captured', 'rights_holder', 'seq_num_frames', 'location']\n",
    "an_b = pd.DataFrame(boxes['annotations'])\n",
    "an_b.head(1)"
   ]
  },
  {
   "cell_type": "code",
   "execution_count": 99,
   "metadata": {},
   "outputs": [
    {
     "data": {
      "text/plain": [
       "Index(['file_name', 'seq_id', 'height', 'image_id', 'frame_num', 'width',\n",
       "       'date_captured', 'rights_holder', 'seq_num_frames', 'location'],\n",
       "      dtype='object')"
      ]
     },
     "execution_count": 99,
     "metadata": {},
     "output_type": "execute_result"
    }
   ],
   "source": [
    "im_b.columns"
   ]
  },
  {
   "cell_type": "code",
   "execution_count": 100,
   "metadata": {},
   "outputs": [
    {
     "data": {
      "text/html": [
       "<div>\n",
       "<style scoped>\n",
       "    .dataframe tbody tr th:only-of-type {\n",
       "        vertical-align: middle;\n",
       "    }\n",
       "\n",
       "    .dataframe tbody tr th {\n",
       "        vertical-align: top;\n",
       "    }\n",
       "\n",
       "    .dataframe thead th {\n",
       "        text-align: right;\n",
       "    }\n",
       "</style>\n",
       "<table border=\"1\" class=\"dataframe\">\n",
       "  <thead>\n",
       "    <tr style=\"text-align: right;\">\n",
       "      <th></th>\n",
       "      <th>file_name</th>\n",
       "      <th>seq_id</th>\n",
       "      <th>height</th>\n",
       "      <th>image_id</th>\n",
       "      <th>frame_num</th>\n",
       "      <th>width</th>\n",
       "      <th>date_captured</th>\n",
       "      <th>rights_holder</th>\n",
       "      <th>seq_num_frames</th>\n",
       "      <th>location</th>\n",
       "      <th>id</th>\n",
       "      <th>bbox</th>\n",
       "      <th>category_id</th>\n",
       "    </tr>\n",
       "  </thead>\n",
       "  <tbody>\n",
       "    <tr>\n",
       "      <th>0</th>\n",
       "      <td>5998cfa4-23d2-11e8-a6a3-ec086b02610b.jpg</td>\n",
       "      <td>6f084ccc-5567-11e8-bc84-dca9047ef277</td>\n",
       "      <td>1494</td>\n",
       "      <td>5998cfa4-23d2-11e8-a6a3-ec086b02610b</td>\n",
       "      <td>1</td>\n",
       "      <td>2048</td>\n",
       "      <td>2011-05-13 23:43:18</td>\n",
       "      <td>Justin Brown</td>\n",
       "      <td>3</td>\n",
       "      <td>33</td>\n",
       "      <td>2a545520-cbf1-11e8-819c-970a9450cdbc</td>\n",
       "      <td>[499.2, 711.68, 353.28000000000003, 199.679999...</td>\n",
       "      <td>1</td>\n",
       "    </tr>\n",
       "    <tr>\n",
       "      <th>1</th>\n",
       "      <td>588a679f-23d2-11e8-a6a3-ec086b02610b.jpg</td>\n",
       "      <td>6f12067d-5567-11e8-b3c0-dca9047ef277</td>\n",
       "      <td>1494</td>\n",
       "      <td>588a679f-23d2-11e8-a6a3-ec086b02610b</td>\n",
       "      <td>2</td>\n",
       "      <td>2048</td>\n",
       "      <td>2012-03-17 03:48:44</td>\n",
       "      <td>Justin Brown</td>\n",
       "      <td>3</td>\n",
       "      <td>115</td>\n",
       "      <td>2a54562e-cbf1-11e8-819c-970a9450cdbc</td>\n",
       "      <td>[985.6, 783.36, 368.64, 230.39999999999998]</td>\n",
       "      <td>1</td>\n",
       "    </tr>\n",
       "    <tr>\n",
       "      <th>2</th>\n",
       "      <td>593d68d7-23d2-11e8-a6a3-ec086b02610b.jpg</td>\n",
       "      <td>6f0f6778-5567-11e8-b5d2-dca9047ef277</td>\n",
       "      <td>1494</td>\n",
       "      <td>593d68d7-23d2-11e8-a6a3-ec086b02610b</td>\n",
       "      <td>3</td>\n",
       "      <td>2048</td>\n",
       "      <td>2011-06-28 15:29:42</td>\n",
       "      <td>Justin Brown</td>\n",
       "      <td>3</td>\n",
       "      <td>90</td>\n",
       "      <td>2a54599e-cbf1-11e8-819c-970a9450cdbc</td>\n",
       "      <td>[1779.2, 407.04, 61.440000000000055, 84.480000...</td>\n",
       "      <td>5</td>\n",
       "    </tr>\n",
       "  </tbody>\n",
       "</table>\n",
       "</div>"
      ],
      "text/plain": [
       "                                  file_name  \\\n",
       "0  5998cfa4-23d2-11e8-a6a3-ec086b02610b.jpg   \n",
       "1  588a679f-23d2-11e8-a6a3-ec086b02610b.jpg   \n",
       "2  593d68d7-23d2-11e8-a6a3-ec086b02610b.jpg   \n",
       "\n",
       "                                 seq_id  height  \\\n",
       "0  6f084ccc-5567-11e8-bc84-dca9047ef277    1494   \n",
       "1  6f12067d-5567-11e8-b3c0-dca9047ef277    1494   \n",
       "2  6f0f6778-5567-11e8-b5d2-dca9047ef277    1494   \n",
       "\n",
       "                               image_id  frame_num  width  \\\n",
       "0  5998cfa4-23d2-11e8-a6a3-ec086b02610b          1   2048   \n",
       "1  588a679f-23d2-11e8-a6a3-ec086b02610b          2   2048   \n",
       "2  593d68d7-23d2-11e8-a6a3-ec086b02610b          3   2048   \n",
       "\n",
       "         date_captured rights_holder  seq_num_frames location  \\\n",
       "0  2011-05-13 23:43:18  Justin Brown               3       33   \n",
       "1  2012-03-17 03:48:44  Justin Brown               3      115   \n",
       "2  2011-06-28 15:29:42  Justin Brown               3       90   \n",
       "\n",
       "                                     id  \\\n",
       "0  2a545520-cbf1-11e8-819c-970a9450cdbc   \n",
       "1  2a54562e-cbf1-11e8-819c-970a9450cdbc   \n",
       "2  2a54599e-cbf1-11e8-819c-970a9450cdbc   \n",
       "\n",
       "                                                bbox  category_id  \n",
       "0  [499.2, 711.68, 353.28000000000003, 199.679999...            1  \n",
       "1        [985.6, 783.36, 368.64, 230.39999999999998]            1  \n",
       "2  [1779.2, 407.04, 61.440000000000055, 84.480000...            5  "
      ]
     },
     "execution_count": 100,
     "metadata": {},
     "output_type": "execute_result"
    }
   ],
   "source": [
    "boxes_df=im_b.merge(an_b, how='inner', left_on='image_id', right_on='image_id' )\n",
    "boxes_df.head(3)"
   ]
  },
  {
   "cell_type": "markdown",
   "metadata": {},
   "source": [
    "## splits???"
   ]
  },
  {
   "cell_type": "code",
   "execution_count": 41,
   "metadata": {},
   "outputs": [],
   "source": [
    "with open('CaltechCameraTrapsSplits_v0.json') as f:\n",
    "    data = f.read()\n",
    "    splits = json.loads(data)"
   ]
  },
  {
   "cell_type": "code",
   "execution_count": 43,
   "metadata": {},
   "outputs": [
    {
     "data": {
      "text/plain": [
       "dict_keys(['info', 'splits'])"
      ]
     },
     "execution_count": 43,
     "metadata": {},
     "output_type": "execute_result"
    }
   ],
   "source": [
    "splits.keys()"
   ]
  },
  {
   "cell_type": "code",
   "execution_count": 44,
   "metadata": {},
   "outputs": [
    {
     "data": {
      "text/plain": [
       "{'version': '1.0', 'description': 'Train/val splits for Caltech Camera Traps'}"
      ]
     },
     "execution_count": 44,
     "metadata": {},
     "output_type": "execute_result"
    }
   ],
   "source": [
    "splits['info']"
   ]
  },
  {
   "cell_type": "code",
   "execution_count": 46,
   "metadata": {},
   "outputs": [
    {
     "data": {
      "text/plain": [
       "dict_keys(['train', 'val', 'eccv_train', 'eccv_val'])"
      ]
     },
     "execution_count": 46,
     "metadata": {},
     "output_type": "execute_result"
    }
   ],
   "source": [
    "splits['splits'].keys()"
   ]
  },
  {
   "cell_type": "code",
   "execution_count": 53,
   "metadata": {},
   "outputs": [
    {
     "name": "stdout",
     "output_type": "stream",
     "text": [
      "120\n",
      "40\n",
      "30\n",
      "10\n"
     ]
    }
   ],
   "source": [
    "# i dont know whats going on here\n",
    "print(len(splits['splits']['train']))\n",
    "print(len(splits['splits']['val']))\n",
    "print(len(splits['splits']['eccv_train']))\n",
    "print(len(splits['splits']['eccv_val']))"
   ]
  },
  {
   "cell_type": "code",
   "execution_count": 55,
   "metadata": {},
   "outputs": [
    {
     "data": {
      "text/plain": [
       "['33', '33', '33', '38', '38']"
      ]
     },
     "execution_count": 55,
     "metadata": {},
     "output_type": "execute_result"
    }
   ],
   "source": [
    "splits['splits']['eccv_train'][:5]"
   ]
  },
  {
   "cell_type": "markdown",
   "metadata": {},
   "source": [
    "## images"
   ]
  },
  {
   "cell_type": "code",
   "execution_count": 101,
   "metadata": {},
   "outputs": [],
   "source": [
    "with open('caltech_images_20200316.json') as f:\n",
    "    data = f.read()\n",
    "    images = json.loads(data)"
   ]
  },
  {
   "cell_type": "code",
   "execution_count": 102,
   "metadata": {
    "scrolled": true
   },
   "outputs": [
    {
     "data": {
      "text/plain": [
       "dict_keys(['images', 'annotations', 'categories', 'info'])"
      ]
     },
     "execution_count": 102,
     "metadata": {},
     "output_type": "execute_result"
    }
   ],
   "source": [
    "images.keys()"
   ]
  },
  {
   "cell_type": "code",
   "execution_count": 103,
   "metadata": {
    "scrolled": false
   },
   "outputs": [
    {
     "data": {
      "text/plain": [
       "[{'seq_num_frames': 1,\n",
       "  'date_captured': '2013-10-04 13:31:53',\n",
       "  'seq_id': '6f2160eb-5567-11e8-990e-dca9047ef277',\n",
       "  'height': 1494,\n",
       "  'width': 2048,\n",
       "  'location': '26',\n",
       "  'rights_holder': 'Erin Boydston',\n",
       "  'file_name': 'train_val/5968c0f9-23d2-11e8-a6a3-ec086b02610b.jpg',\n",
       "  'id': '5968c0f9-23d2-11e8-a6a3-ec086b02610b',\n",
       "  'frame_num': 1},\n",
       " {'seq_num_frames': 1,\n",
       "  'date_captured': '2013-11-04 18:37:07',\n",
       "  'seq_id': '6f27ed66-5567-11e8-9e92-dca9047ef277',\n",
       "  'height': 1494,\n",
       "  'width': 2048,\n",
       "  'location': '26',\n",
       "  'rights_holder': 'Erin Boydston',\n",
       "  'file_name': 'train_val/5a0b016f-23d2-11e8-a6a3-ec086b02610b.jpg',\n",
       "  'id': '5a0b016f-23d2-11e8-a6a3-ec086b02610b',\n",
       "  'frame_num': 1}]"
      ]
     },
     "execution_count": 103,
     "metadata": {},
     "output_type": "execute_result"
    }
   ],
   "source": [
    "images['images'][:2]"
   ]
  },
  {
   "cell_type": "code",
   "execution_count": 104,
   "metadata": {
    "scrolled": true
   },
   "outputs": [
    {
     "data": {
      "text/plain": [
       "243100"
      ]
     },
     "execution_count": 104,
     "metadata": {},
     "output_type": "execute_result"
    }
   ],
   "source": [
    "len(images['images'])"
   ]
  },
  {
   "cell_type": "code",
   "execution_count": 105,
   "metadata": {},
   "outputs": [
    {
     "data": {
      "text/plain": [
       "245118"
      ]
     },
     "execution_count": 105,
     "metadata": {},
     "output_type": "execute_result"
    }
   ],
   "source": [
    "len(images['annotations'])"
   ]
  },
  {
   "cell_type": "code",
   "execution_count": 106,
   "metadata": {},
   "outputs": [
    {
     "data": {
      "text/plain": [
       "[{'id': '207268a3-7d5b-11e7-884d-7845c41c2c67',\n",
       "  'category_id': 6,\n",
       "  'image_id': '58d61304-23d2-11e8-a6a3-ec086b02610b'},\n",
       " {'id': '207268a4-7d5b-11e7-884d-7845c41c2c67',\n",
       "  'category_id': 1,\n",
       "  'image_id': '58e59acd-23d2-11e8-a6a3-ec086b02610b'}]"
      ]
     },
     "execution_count": 106,
     "metadata": {},
     "output_type": "execute_result"
    }
   ],
   "source": [
    "images['annotations'][:2]"
   ]
  },
  {
   "cell_type": "code",
   "execution_count": 107,
   "metadata": {},
   "outputs": [
    {
     "data": {
      "text/plain": [
       "2018"
      ]
     },
     "execution_count": 107,
     "metadata": {},
     "output_type": "execute_result"
    }
   ],
   "source": [
    "# there are photos with more than one object- interesting that it is such a small number in comparison with boxes\n",
    "len(images['annotations'])-len(images['images'])"
   ]
  },
  {
   "cell_type": "code",
   "execution_count": 108,
   "metadata": {
    "scrolled": true
   },
   "outputs": [
    {
     "data": {
      "text/plain": [
       "{'year': 2018,\n",
       " 'contributor': 'Sara Beery',\n",
       " 'date_created': '2018-07-03 18:34:36.573636',\n",
       " 'version': '20200316',\n",
       " 'description': 'Caltech Camera Traps: Database of camera trap images collected from the NPS and the USGS with help from Justin Brown and Erin Boydston'}"
      ]
     },
     "execution_count": 108,
     "metadata": {},
     "output_type": "execute_result"
    }
   ],
   "source": [
    "images['info']"
   ]
  },
  {
   "cell_type": "code",
   "execution_count": 109,
   "metadata": {
    "scrolled": true
   },
   "outputs": [
    {
     "data": {
      "text/plain": [
       "Index(['seq_num_frames', 'date_captured', 'seq_id', 'height', 'width',\n",
       "       'location', 'rights_holder', 'file_name', 'image_id', 'frame_num'],\n",
       "      dtype='object')"
      ]
     },
     "execution_count": 109,
     "metadata": {},
     "output_type": "execute_result"
    }
   ],
   "source": [
    "im.columns"
   ]
  },
  {
   "cell_type": "code",
   "execution_count": 115,
   "metadata": {},
   "outputs": [
    {
     "data": {
      "text/plain": [
       "Index(['file_name', 'seq_id', 'height', 'image_id', 'frame_num', 'width',\n",
       "       'date_captured', 'rights_holder', 'seq_num_frames', 'location'],\n",
       "      dtype='object')"
      ]
     },
     "execution_count": 115,
     "metadata": {},
     "output_type": "execute_result"
    }
   ],
   "source": [
    "im_b.columns"
   ]
  },
  {
   "cell_type": "code",
   "execution_count": 122,
   "metadata": {},
   "outputs": [
    {
     "data": {
      "text/html": [
       "<div>\n",
       "<style scoped>\n",
       "    .dataframe tbody tr th:only-of-type {\n",
       "        vertical-align: middle;\n",
       "    }\n",
       "\n",
       "    .dataframe tbody tr th {\n",
       "        vertical-align: top;\n",
       "    }\n",
       "\n",
       "    .dataframe thead th {\n",
       "        text-align: right;\n",
       "    }\n",
       "</style>\n",
       "<table border=\"1\" class=\"dataframe\">\n",
       "  <thead>\n",
       "    <tr style=\"text-align: right;\">\n",
       "      <th></th>\n",
       "      <th>seq_num_frames</th>\n",
       "      <th>date_captured</th>\n",
       "      <th>seq_id</th>\n",
       "      <th>height</th>\n",
       "      <th>width</th>\n",
       "      <th>location</th>\n",
       "      <th>rights_holder</th>\n",
       "      <th>file_name</th>\n",
       "      <th>image_id</th>\n",
       "      <th>frame_num</th>\n",
       "    </tr>\n",
       "  </thead>\n",
       "  <tbody>\n",
       "    <tr>\n",
       "      <th>0</th>\n",
       "      <td>1</td>\n",
       "      <td>2013-10-04 13:31:53</td>\n",
       "      <td>6f2160eb-5567-11e8-990e-dca9047ef277</td>\n",
       "      <td>1494</td>\n",
       "      <td>2048</td>\n",
       "      <td>26</td>\n",
       "      <td>Erin Boydston</td>\n",
       "      <td>train_val/5968c0f9-23d2-11e8-a6a3-ec086b02610b...</td>\n",
       "      <td>5968c0f9-23d2-11e8-a6a3-ec086b02610b</td>\n",
       "      <td>1</td>\n",
       "    </tr>\n",
       "  </tbody>\n",
       "</table>\n",
       "</div>"
      ],
      "text/plain": [
       "   seq_num_frames        date_captured                                seq_id  \\\n",
       "0               1  2013-10-04 13:31:53  6f2160eb-5567-11e8-990e-dca9047ef277   \n",
       "\n",
       "   height  width location  rights_holder  \\\n",
       "0    1494   2048       26  Erin Boydston   \n",
       "\n",
       "                                           file_name  \\\n",
       "0  train_val/5968c0f9-23d2-11e8-a6a3-ec086b02610b...   \n",
       "\n",
       "                               image_id  frame_num  \n",
       "0  5968c0f9-23d2-11e8-a6a3-ec086b02610b          1  "
      ]
     },
     "execution_count": 122,
     "metadata": {},
     "output_type": "execute_result"
    }
   ],
   "source": [
    "#parse to dataframe\n",
    "im = pd.DataFrame(images['images'])\n",
    "im.columns=['seq_num_frames', 'date_captured', 'seq_id', 'height', 'width','location', 'rights_holder', 'file_name', 'image_id', 'frame_num']\n",
    "im.head(1)"
   ]
  },
  {
   "cell_type": "code",
   "execution_count": 123,
   "metadata": {},
   "outputs": [
    {
     "data": {
      "text/html": [
       "<div>\n",
       "<style scoped>\n",
       "    .dataframe tbody tr th:only-of-type {\n",
       "        vertical-align: middle;\n",
       "    }\n",
       "\n",
       "    .dataframe tbody tr th {\n",
       "        vertical-align: top;\n",
       "    }\n",
       "\n",
       "    .dataframe thead th {\n",
       "        text-align: right;\n",
       "    }\n",
       "</style>\n",
       "<table border=\"1\" class=\"dataframe\">\n",
       "  <thead>\n",
       "    <tr style=\"text-align: right;\">\n",
       "      <th></th>\n",
       "      <th>id</th>\n",
       "      <th>category_id</th>\n",
       "      <th>image_id</th>\n",
       "    </tr>\n",
       "  </thead>\n",
       "  <tbody>\n",
       "    <tr>\n",
       "      <th>0</th>\n",
       "      <td>207268a3-7d5b-11e7-884d-7845c41c2c67</td>\n",
       "      <td>6</td>\n",
       "      <td>58d61304-23d2-11e8-a6a3-ec086b02610b</td>\n",
       "    </tr>\n",
       "  </tbody>\n",
       "</table>\n",
       "</div>"
      ],
      "text/plain": [
       "                                     id  category_id  \\\n",
       "0  207268a3-7d5b-11e7-884d-7845c41c2c67            6   \n",
       "\n",
       "                               image_id  \n",
       "0  58d61304-23d2-11e8-a6a3-ec086b02610b  "
      ]
     },
     "execution_count": 123,
     "metadata": {},
     "output_type": "execute_result"
    }
   ],
   "source": [
    "an = pd.DataFrame(images['annotations'])\n",
    "an.head(1)"
   ]
  },
  {
   "cell_type": "code",
   "execution_count": 138,
   "metadata": {},
   "outputs": [
    {
     "data": {
      "text/html": [
       "<div>\n",
       "<style scoped>\n",
       "    .dataframe tbody tr th:only-of-type {\n",
       "        vertical-align: middle;\n",
       "    }\n",
       "\n",
       "    .dataframe tbody tr th {\n",
       "        vertical-align: top;\n",
       "    }\n",
       "\n",
       "    .dataframe thead th {\n",
       "        text-align: right;\n",
       "    }\n",
       "</style>\n",
       "<table border=\"1\" class=\"dataframe\">\n",
       "  <thead>\n",
       "    <tr style=\"text-align: right;\">\n",
       "      <th></th>\n",
       "      <th>seq_num_frames</th>\n",
       "      <th>date_captured</th>\n",
       "      <th>seq_id</th>\n",
       "      <th>height</th>\n",
       "      <th>width</th>\n",
       "      <th>location</th>\n",
       "      <th>rights_holder</th>\n",
       "      <th>file_name</th>\n",
       "      <th>image_id</th>\n",
       "      <th>frame_num</th>\n",
       "      <th>id</th>\n",
       "      <th>category_id</th>\n",
       "    </tr>\n",
       "  </thead>\n",
       "  <tbody>\n",
       "    <tr>\n",
       "      <th>0</th>\n",
       "      <td>1</td>\n",
       "      <td>2013-10-04 13:31:53</td>\n",
       "      <td>6f2160eb-5567-11e8-990e-dca9047ef277</td>\n",
       "      <td>1494</td>\n",
       "      <td>2048</td>\n",
       "      <td>26</td>\n",
       "      <td>Erin Boydston</td>\n",
       "      <td>train_val/5968c0f9-23d2-11e8-a6a3-ec086b02610b...</td>\n",
       "      <td>5968c0f9-23d2-11e8-a6a3-ec086b02610b</td>\n",
       "      <td>1</td>\n",
       "      <td>e6eb96aa-7d66-11e7-884d-7845c41c2c67</td>\n",
       "      <td>30</td>\n",
       "    </tr>\n",
       "    <tr>\n",
       "      <th>1</th>\n",
       "      <td>1</td>\n",
       "      <td>2013-11-04 18:37:07</td>\n",
       "      <td>6f27ed66-5567-11e8-9e92-dca9047ef277</td>\n",
       "      <td>1494</td>\n",
       "      <td>2048</td>\n",
       "      <td>26</td>\n",
       "      <td>Erin Boydston</td>\n",
       "      <td>train_val/5a0b016f-23d2-11e8-a6a3-ec086b02610b...</td>\n",
       "      <td>5a0b016f-23d2-11e8-a6a3-ec086b02610b</td>\n",
       "      <td>1</td>\n",
       "      <td>38bd1ea8-7d68-11e7-884d-7845c41c2c67</td>\n",
       "      <td>34</td>\n",
       "    </tr>\n",
       "    <tr>\n",
       "      <th>2</th>\n",
       "      <td>3</td>\n",
       "      <td>2012-05-09 07:33:45</td>\n",
       "      <td>6f04895c-5567-11e8-a3d6-dca9047ef277</td>\n",
       "      <td>1494</td>\n",
       "      <td>2048</td>\n",
       "      <td>38</td>\n",
       "      <td>Justin Brown</td>\n",
       "      <td>train_val/59b93afb-23d2-11e8-a6a3-ec086b02610b...</td>\n",
       "      <td>59b93afb-23d2-11e8-a6a3-ec086b02610b</td>\n",
       "      <td>2</td>\n",
       "      <td>38243</td>\n",
       "      <td>16</td>\n",
       "    </tr>\n",
       "  </tbody>\n",
       "</table>\n",
       "</div>"
      ],
      "text/plain": [
       "   seq_num_frames        date_captured                                seq_id  \\\n",
       "0               1  2013-10-04 13:31:53  6f2160eb-5567-11e8-990e-dca9047ef277   \n",
       "1               1  2013-11-04 18:37:07  6f27ed66-5567-11e8-9e92-dca9047ef277   \n",
       "2               3  2012-05-09 07:33:45  6f04895c-5567-11e8-a3d6-dca9047ef277   \n",
       "\n",
       "   height  width location  rights_holder  \\\n",
       "0    1494   2048       26  Erin Boydston   \n",
       "1    1494   2048       26  Erin Boydston   \n",
       "2    1494   2048       38   Justin Brown   \n",
       "\n",
       "                                           file_name  \\\n",
       "0  train_val/5968c0f9-23d2-11e8-a6a3-ec086b02610b...   \n",
       "1  train_val/5a0b016f-23d2-11e8-a6a3-ec086b02610b...   \n",
       "2  train_val/59b93afb-23d2-11e8-a6a3-ec086b02610b...   \n",
       "\n",
       "                               image_id  frame_num  \\\n",
       "0  5968c0f9-23d2-11e8-a6a3-ec086b02610b          1   \n",
       "1  5a0b016f-23d2-11e8-a6a3-ec086b02610b          1   \n",
       "2  59b93afb-23d2-11e8-a6a3-ec086b02610b          2   \n",
       "\n",
       "                                     id  category_id  \n",
       "0  e6eb96aa-7d66-11e7-884d-7845c41c2c67           30  \n",
       "1  38bd1ea8-7d68-11e7-884d-7845c41c2c67           34  \n",
       "2                                 38243           16  "
      ]
     },
     "execution_count": 138,
     "metadata": {},
     "output_type": "execute_result"
    }
   ],
   "source": [
    "images_df=im.merge(an, how='inner', left_on='image_id', right_on='image_id' )\n",
    "images_df.head(3)"
   ]
  },
  {
   "cell_type": "code",
   "execution_count": 143,
   "metadata": {
    "scrolled": false
   },
   "outputs": [
    {
     "name": "stdout",
     "output_type": "stream",
     "text": [
      "<class 'pandas.core.frame.DataFrame'>\n",
      "Int64Index: 245118 entries, 0 to 245117\n",
      "Data columns (total 12 columns):\n",
      " #   Column          Non-Null Count   Dtype \n",
      "---  ------          --------------   ----- \n",
      " 0   seq_num_frames  245118 non-null  int64 \n",
      " 1   date_captured   245118 non-null  object\n",
      " 2   seq_id          245118 non-null  object\n",
      " 3   height          245118 non-null  int64 \n",
      " 4   width           245118 non-null  int64 \n",
      " 5   location        245118 non-null  object\n",
      " 6   rights_holder   245118 non-null  object\n",
      " 7   file_name       245118 non-null  object\n",
      " 8   image_id        245118 non-null  object\n",
      " 9   frame_num       245118 non-null  int64 \n",
      " 10  id              245118 non-null  object\n",
      " 11  category_id     245118 non-null  int64 \n",
      "dtypes: int64(5), object(7)\n",
      "memory usage: 24.3+ MB\n"
     ]
    }
   ],
   "source": [
    "images_df.info()"
   ]
  },
  {
   "cell_type": "code",
   "execution_count": 134,
   "metadata": {},
   "outputs": [
    {
     "data": {
      "text/plain": [
       "243100"
      ]
     },
     "execution_count": 134,
     "metadata": {},
     "output_type": "execute_result"
    }
   ],
   "source": [
    "len(images_df.image_id.unique())"
   ]
  },
  {
   "cell_type": "markdown",
   "metadata": {},
   "source": [
    "### I checked that all photos from boxes are in global images. "
   ]
  },
  {
   "cell_type": "code",
   "execution_count": 150,
   "metadata": {
    "scrolled": false
   },
   "outputs": [
    {
     "data": {
      "text/html": [
       "<div>\n",
       "<style scoped>\n",
       "    .dataframe tbody tr th:only-of-type {\n",
       "        vertical-align: middle;\n",
       "    }\n",
       "\n",
       "    .dataframe tbody tr th {\n",
       "        vertical-align: top;\n",
       "    }\n",
       "\n",
       "    .dataframe thead th {\n",
       "        text-align: right;\n",
       "    }\n",
       "</style>\n",
       "<table border=\"1\" class=\"dataframe\">\n",
       "  <thead>\n",
       "    <tr style=\"text-align: right;\">\n",
       "      <th></th>\n",
       "      <th>label</th>\n",
       "      <th>category_id</th>\n",
       "    </tr>\n",
       "  </thead>\n",
       "  <tbody>\n",
       "    <tr>\n",
       "      <th>0</th>\n",
       "      <td>bobcat</td>\n",
       "      <td>6</td>\n",
       "    </tr>\n",
       "    <tr>\n",
       "      <th>1</th>\n",
       "      <td>opossum</td>\n",
       "      <td>1</td>\n",
       "    </tr>\n",
       "    <tr>\n",
       "      <th>2</th>\n",
       "      <td>empty</td>\n",
       "      <td>30</td>\n",
       "    </tr>\n",
       "    <tr>\n",
       "      <th>3</th>\n",
       "      <td>coyote</td>\n",
       "      <td>9</td>\n",
       "    </tr>\n",
       "    <tr>\n",
       "      <th>4</th>\n",
       "      <td>raccoon</td>\n",
       "      <td>3</td>\n",
       "    </tr>\n",
       "  </tbody>\n",
       "</table>\n",
       "</div>"
      ],
      "text/plain": [
       "     label  category_id\n",
       "0   bobcat            6\n",
       "1  opossum            1\n",
       "2    empty           30\n",
       "3   coyote            9\n",
       "4  raccoon            3"
      ]
     },
     "execution_count": 150,
     "metadata": {},
     "output_type": "execute_result"
    }
   ],
   "source": [
    "cat = pd.DataFrame(images['categories'])\n",
    "cat.columns = ['label', 'category_id']\n",
    "cat.head()"
   ]
  },
  {
   "cell_type": "markdown",
   "metadata": {},
   "source": [
    "### adding labels "
   ]
  },
  {
   "cell_type": "code",
   "execution_count": 152,
   "metadata": {},
   "outputs": [
    {
     "data": {
      "text/html": [
       "<div>\n",
       "<style scoped>\n",
       "    .dataframe tbody tr th:only-of-type {\n",
       "        vertical-align: middle;\n",
       "    }\n",
       "\n",
       "    .dataframe tbody tr th {\n",
       "        vertical-align: top;\n",
       "    }\n",
       "\n",
       "    .dataframe thead th {\n",
       "        text-align: right;\n",
       "    }\n",
       "</style>\n",
       "<table border=\"1\" class=\"dataframe\">\n",
       "  <thead>\n",
       "    <tr style=\"text-align: right;\">\n",
       "      <th></th>\n",
       "      <th>seq_num_frames</th>\n",
       "      <th>date_captured</th>\n",
       "      <th>seq_id</th>\n",
       "      <th>height</th>\n",
       "      <th>width</th>\n",
       "      <th>location</th>\n",
       "      <th>rights_holder</th>\n",
       "      <th>file_name</th>\n",
       "      <th>image_id</th>\n",
       "      <th>frame_num</th>\n",
       "      <th>id</th>\n",
       "      <th>category_id</th>\n",
       "      <th>label</th>\n",
       "    </tr>\n",
       "  </thead>\n",
       "  <tbody>\n",
       "    <tr>\n",
       "      <th>0</th>\n",
       "      <td>1</td>\n",
       "      <td>2013-10-04 13:31:53</td>\n",
       "      <td>6f2160eb-5567-11e8-990e-dca9047ef277</td>\n",
       "      <td>1494</td>\n",
       "      <td>2048</td>\n",
       "      <td>26</td>\n",
       "      <td>Erin Boydston</td>\n",
       "      <td>train_val/5968c0f9-23d2-11e8-a6a3-ec086b02610b...</td>\n",
       "      <td>5968c0f9-23d2-11e8-a6a3-ec086b02610b</td>\n",
       "      <td>1</td>\n",
       "      <td>e6eb96aa-7d66-11e7-884d-7845c41c2c67</td>\n",
       "      <td>30</td>\n",
       "      <td>empty</td>\n",
       "    </tr>\n",
       "    <tr>\n",
       "      <th>1</th>\n",
       "      <td>1</td>\n",
       "      <td>2013-11-04 18:37:07</td>\n",
       "      <td>6f27ed66-5567-11e8-9e92-dca9047ef277</td>\n",
       "      <td>1494</td>\n",
       "      <td>2048</td>\n",
       "      <td>26</td>\n",
       "      <td>Erin Boydston</td>\n",
       "      <td>train_val/5a0b016f-23d2-11e8-a6a3-ec086b02610b...</td>\n",
       "      <td>5a0b016f-23d2-11e8-a6a3-ec086b02610b</td>\n",
       "      <td>1</td>\n",
       "      <td>38bd1ea8-7d68-11e7-884d-7845c41c2c67</td>\n",
       "      <td>34</td>\n",
       "      <td>deer</td>\n",
       "    </tr>\n",
       "    <tr>\n",
       "      <th>2</th>\n",
       "      <td>3</td>\n",
       "      <td>2012-05-09 07:33:45</td>\n",
       "      <td>6f04895c-5567-11e8-a3d6-dca9047ef277</td>\n",
       "      <td>1494</td>\n",
       "      <td>2048</td>\n",
       "      <td>38</td>\n",
       "      <td>Justin Brown</td>\n",
       "      <td>train_val/59b93afb-23d2-11e8-a6a3-ec086b02610b...</td>\n",
       "      <td>59b93afb-23d2-11e8-a6a3-ec086b02610b</td>\n",
       "      <td>2</td>\n",
       "      <td>38243</td>\n",
       "      <td>16</td>\n",
       "      <td>cat</td>\n",
       "    </tr>\n",
       "  </tbody>\n",
       "</table>\n",
       "</div>"
      ],
      "text/plain": [
       "   seq_num_frames        date_captured                                seq_id  \\\n",
       "0               1  2013-10-04 13:31:53  6f2160eb-5567-11e8-990e-dca9047ef277   \n",
       "1               1  2013-11-04 18:37:07  6f27ed66-5567-11e8-9e92-dca9047ef277   \n",
       "2               3  2012-05-09 07:33:45  6f04895c-5567-11e8-a3d6-dca9047ef277   \n",
       "\n",
       "   height  width location  rights_holder  \\\n",
       "0    1494   2048       26  Erin Boydston   \n",
       "1    1494   2048       26  Erin Boydston   \n",
       "2    1494   2048       38   Justin Brown   \n",
       "\n",
       "                                           file_name  \\\n",
       "0  train_val/5968c0f9-23d2-11e8-a6a3-ec086b02610b...   \n",
       "1  train_val/5a0b016f-23d2-11e8-a6a3-ec086b02610b...   \n",
       "2  train_val/59b93afb-23d2-11e8-a6a3-ec086b02610b...   \n",
       "\n",
       "                               image_id  frame_num  \\\n",
       "0  5968c0f9-23d2-11e8-a6a3-ec086b02610b          1   \n",
       "1  5a0b016f-23d2-11e8-a6a3-ec086b02610b          1   \n",
       "2  59b93afb-23d2-11e8-a6a3-ec086b02610b          2   \n",
       "\n",
       "                                     id  category_id  label  \n",
       "0  e6eb96aa-7d66-11e7-884d-7845c41c2c67           30  empty  \n",
       "1  38bd1ea8-7d68-11e7-884d-7845c41c2c67           34   deer  \n",
       "2                                 38243           16    cat  "
      ]
     },
     "execution_count": 152,
     "metadata": {},
     "output_type": "execute_result"
    }
   ],
   "source": [
    "images_df = images_df.merge(cat, on='category_id', how='left')\n",
    "images_df.head(3)"
   ]
  },
  {
   "cell_type": "code",
   "execution_count": 158,
   "metadata": {},
   "outputs": [
    {
     "data": {
      "text/html": [
       "<div>\n",
       "<style scoped>\n",
       "    .dataframe tbody tr th:only-of-type {\n",
       "        vertical-align: middle;\n",
       "    }\n",
       "\n",
       "    .dataframe tbody tr th {\n",
       "        vertical-align: top;\n",
       "    }\n",
       "\n",
       "    .dataframe thead th {\n",
       "        text-align: right;\n",
       "    }\n",
       "</style>\n",
       "<table border=\"1\" class=\"dataframe\">\n",
       "  <thead>\n",
       "    <tr style=\"text-align: right;\">\n",
       "      <th></th>\n",
       "      <th>empty</th>\n",
       "      <th>opossum</th>\n",
       "      <th>coyote</th>\n",
       "      <th>rabbit</th>\n",
       "      <th>deer</th>\n",
       "      <th>raccoon</th>\n",
       "      <th>bird</th>\n",
       "      <th>bobcat</th>\n",
       "      <th>cat</th>\n",
       "      <th>car</th>\n",
       "      <th>dog</th>\n",
       "      <th>squirrel</th>\n",
       "      <th>rodent</th>\n",
       "      <th>cow</th>\n",
       "      <th>fox</th>\n",
       "      <th>skunk</th>\n",
       "      <th>lizard</th>\n",
       "      <th>mountain_lion</th>\n",
       "      <th>badger</th>\n",
       "      <th>insect</th>\n",
       "      <th>bat</th>\n",
       "      <th>pig</th>\n",
       "    </tr>\n",
       "  </thead>\n",
       "  <tbody>\n",
       "    <tr>\n",
       "      <th>label</th>\n",
       "      <td>125745</td>\n",
       "      <td>16698</td>\n",
       "      <td>16601</td>\n",
       "      <td>12519</td>\n",
       "      <td>12196</td>\n",
       "      <td>11390</td>\n",
       "      <td>10003</td>\n",
       "      <td>8098</td>\n",
       "      <td>5297</td>\n",
       "      <td>4717</td>\n",
       "      <td>4512</td>\n",
       "      <td>4450</td>\n",
       "      <td>4279</td>\n",
       "      <td>3626</td>\n",
       "      <td>2574</td>\n",
       "      <td>1898</td>\n",
       "      <td>309</td>\n",
       "      <td>145</td>\n",
       "      <td>50</td>\n",
       "      <td>6</td>\n",
       "      <td>3</td>\n",
       "      <td>2</td>\n",
       "    </tr>\n",
       "  </tbody>\n",
       "</table>\n",
       "</div>"
      ],
      "text/plain": [
       "        empty  opossum  coyote  rabbit   deer  raccoon   bird  bobcat   cat  \\\n",
       "label  125745    16698   16601   12519  12196    11390  10003    8098  5297   \n",
       "\n",
       "        car   dog  squirrel  rodent   cow   fox  skunk  lizard  mountain_lion  \\\n",
       "label  4717  4512      4450    4279  3626  2574   1898     309            145   \n",
       "\n",
       "       badger  insect  bat  pig  \n",
       "label      50       6    3    2  "
      ]
     },
     "execution_count": 158,
     "metadata": {},
     "output_type": "execute_result"
    }
   ],
   "source": [
    "pd.DataFrame(images_df.label.value_counts()).transpose()"
   ]
  },
  {
   "cell_type": "markdown",
   "metadata": {},
   "source": [
    "In total we have 245118 objects but:\n",
    "- 125745 empty images\n",
    "-  \t4717 cars\n",
    "- 6 insects - not enought - need to drop\n",
    "- 3 bats - like above\n",
    "- 2 pigs - like above"
   ]
  },
  {
   "cell_type": "code",
   "execution_count": 162,
   "metadata": {},
   "outputs": [],
   "source": [
    "unwanted_species=['bat', 'pig', 'insect']"
   ]
  },
  {
   "cell_type": "code",
   "execution_count": 163,
   "metadata": {},
   "outputs": [],
   "source": [
    "df = images_df[~images_df.label.isin(unwanted_species)]"
   ]
  },
  {
   "cell_type": "code",
   "execution_count": 164,
   "metadata": {},
   "outputs": [
    {
     "data": {
      "text/html": [
       "<div>\n",
       "<style scoped>\n",
       "    .dataframe tbody tr th:only-of-type {\n",
       "        vertical-align: middle;\n",
       "    }\n",
       "\n",
       "    .dataframe tbody tr th {\n",
       "        vertical-align: top;\n",
       "    }\n",
       "\n",
       "    .dataframe thead th {\n",
       "        text-align: right;\n",
       "    }\n",
       "</style>\n",
       "<table border=\"1\" class=\"dataframe\">\n",
       "  <thead>\n",
       "    <tr style=\"text-align: right;\">\n",
       "      <th></th>\n",
       "      <th>empty</th>\n",
       "      <th>opossum</th>\n",
       "      <th>coyote</th>\n",
       "      <th>rabbit</th>\n",
       "      <th>deer</th>\n",
       "      <th>raccoon</th>\n",
       "      <th>bird</th>\n",
       "      <th>bobcat</th>\n",
       "      <th>cat</th>\n",
       "      <th>car</th>\n",
       "      <th>dog</th>\n",
       "      <th>squirrel</th>\n",
       "      <th>rodent</th>\n",
       "      <th>cow</th>\n",
       "      <th>fox</th>\n",
       "      <th>skunk</th>\n",
       "      <th>lizard</th>\n",
       "      <th>mountain_lion</th>\n",
       "      <th>badger</th>\n",
       "    </tr>\n",
       "  </thead>\n",
       "  <tbody>\n",
       "    <tr>\n",
       "      <th>label</th>\n",
       "      <td>125745</td>\n",
       "      <td>16698</td>\n",
       "      <td>16601</td>\n",
       "      <td>12519</td>\n",
       "      <td>12196</td>\n",
       "      <td>11390</td>\n",
       "      <td>10003</td>\n",
       "      <td>8098</td>\n",
       "      <td>5297</td>\n",
       "      <td>4717</td>\n",
       "      <td>4512</td>\n",
       "      <td>4450</td>\n",
       "      <td>4279</td>\n",
       "      <td>3626</td>\n",
       "      <td>2574</td>\n",
       "      <td>1898</td>\n",
       "      <td>309</td>\n",
       "      <td>145</td>\n",
       "      <td>50</td>\n",
       "    </tr>\n",
       "  </tbody>\n",
       "</table>\n",
       "</div>"
      ],
      "text/plain": [
       "        empty  opossum  coyote  rabbit   deer  raccoon   bird  bobcat   cat  \\\n",
       "label  125745    16698   16601   12519  12196    11390  10003    8098  5297   \n",
       "\n",
       "        car   dog  squirrel  rodent   cow   fox  skunk  lizard  mountain_lion  \\\n",
       "label  4717  4512      4450    4279  3626  2574   1898     309            145   \n",
       "\n",
       "       badger  \n",
       "label      50  "
      ]
     },
     "execution_count": 164,
     "metadata": {},
     "output_type": "execute_result"
    }
   ],
   "source": [
    "pd.DataFrame(df.label.value_counts()).transpose()"
   ]
  },
  {
   "cell_type": "code",
   "execution_count": 169,
   "metadata": {},
   "outputs": [],
   "source": [
    "def plot_classes(feature, fs=8, show_percents=True, color_palette='Set3'):\n",
    "    f, ax = plt.subplots(1,1, figsize=(2*fs,4))\n",
    "    total = float(len(df))\n",
    "    g = sns.countplot(df[feature], order = df[feature].value_counts().index, palette=color_palette)\n",
    "    g.set_title(\"Number and percentage of labels for each class of {}\".format(feature))\n",
    "    if(show_percents):\n",
    "        for p in ax.patches:\n",
    "            height = p.get_height()\n",
    "            ax.text(p.get_x()+p.get_width()/2.,\n",
    "                    height + 3,\n",
    "                    '{:1.2f}%'.format(100*height/total),\n",
    "                    ha=\"center\") \n",
    "    plt.show()    "
   ]
  },
  {
   "cell_type": "code",
   "execution_count": 170,
   "metadata": {},
   "outputs": [
    {
     "data": {
      "image/png": "[encoded data removed]",
      "text/plain": [
       "<Figure size 432x288 with 1 Axes>"
      ]
     },
     "metadata": {
      "needs_background": "light"
     },
     "output_type": "display_data"
    }
   ],
   "source": [
    "plot_classes('seq_num_frames', fs=3)"
   ]
  },
  {
   "cell_type": "code",
   "execution_count": 173,
   "metadata": {},
   "outputs": [],
   "source": [
    "def draw_category_images(var,cols=3):\n",
    "    categories = (df.groupby([var])[var].nunique()).index\n",
    "    f, ax = plt.subplots(nrows=len(categories),ncols=cols, figsize=(3*cols,3*len(categories)))\n",
    "    # draw a number of images for each location\n",
    "    for i, cat in enumerate(categories):\n",
    "        sample = df[df[var]==cat].sample(cols)\n",
    "        for j in range(0,cols):\n",
    "            file=IMAGE_PATH + sample.iloc[j]['file_name']\n",
    "            im = Image.open(file)\n",
    "            ax[i, j].imshow(im, resample=True)\n",
    "            ax[i, j].set_title(cat, fontsize=9)  \n",
    "    plt.tight_layout()\n",
    "    plt.show()\n",
    "\n"
   ]
  },
  {
   "cell_type": "code",
   "execution_count": 178,
   "metadata": {
    "scrolled": true
   },
   "outputs": [
    {
     "ename": "FileNotFoundError",
     "evalue": "[Errno 2] No such file or directory: 'cct_images/test/5900a2f8-23d2-11e8-a6a3-ec086b02610b.jpg'",
     "output_type": "error",
     "traceback": [
      "\u001b[0;31m---------------------------------------------------------------------------\u001b[0m",
      "\u001b[0;31mFileNotFoundError\u001b[0m                         Traceback (most recent call last)",
      "\u001b[0;32m<ipython-input-178-48aa5e20f7b8>\u001b[0m in \u001b[0;36m<module>\u001b[0;34m\u001b[0m\n\u001b[1;32m      1\u001b[0m \u001b[0;31m#when all photos will be downloaded then repeat\u001b[0m\u001b[0;34m\u001b[0m\u001b[0;34m\u001b[0m\u001b[0;34m\u001b[0m\u001b[0m\n\u001b[1;32m      2\u001b[0m \u001b[0mIMAGE_PATH\u001b[0m \u001b[0;34m=\u001b[0m \u001b[0mPATH\u001b[0m\u001b[0;34m\u001b[0m\u001b[0;34m\u001b[0m\u001b[0m\n\u001b[0;32m----> 3\u001b[0;31m \u001b[0mdraw_category_images\u001b[0m\u001b[0;34m(\u001b[0m\u001b[0;34m'label'\u001b[0m\u001b[0;34m)\u001b[0m\u001b[0;34m\u001b[0m\u001b[0;34m\u001b[0m\u001b[0m\n\u001b[0m\u001b[1;32m      4\u001b[0m \u001b[0;34m\u001b[0m\u001b[0m\n",
      "\u001b[0;32m<ipython-input-173-72a37eb528fc>\u001b[0m in \u001b[0;36mdraw_category_images\u001b[0;34m(var, cols)\u001b[0m\n\u001b[1;32m      7\u001b[0m         \u001b[0;32mfor\u001b[0m \u001b[0mj\u001b[0m \u001b[0;32min\u001b[0m \u001b[0mrange\u001b[0m\u001b[0;34m(\u001b[0m\u001b[0;36m0\u001b[0m\u001b[0;34m,\u001b[0m\u001b[0mcols\u001b[0m\u001b[0;34m)\u001b[0m\u001b[0;34m:\u001b[0m\u001b[0;34m\u001b[0m\u001b[0;34m\u001b[0m\u001b[0m\n\u001b[1;32m      8\u001b[0m             \u001b[0mfile\u001b[0m\u001b[0;34m=\u001b[0m\u001b[0mIMAGE_PATH\u001b[0m \u001b[0;34m+\u001b[0m \u001b[0msample\u001b[0m\u001b[0;34m.\u001b[0m\u001b[0miloc\u001b[0m\u001b[0;34m[\u001b[0m\u001b[0mj\u001b[0m\u001b[0;34m]\u001b[0m\u001b[0;34m[\u001b[0m\u001b[0;34m'file_name'\u001b[0m\u001b[0;34m]\u001b[0m\u001b[0;34m\u001b[0m\u001b[0;34m\u001b[0m\u001b[0m\n\u001b[0;32m----> 9\u001b[0;31m             \u001b[0mim\u001b[0m \u001b[0;34m=\u001b[0m \u001b[0mImage\u001b[0m\u001b[0;34m.\u001b[0m\u001b[0mopen\u001b[0m\u001b[0;34m(\u001b[0m\u001b[0mfile\u001b[0m\u001b[0;34m)\u001b[0m\u001b[0;34m\u001b[0m\u001b[0;34m\u001b[0m\u001b[0m\n\u001b[0m\u001b[1;32m     10\u001b[0m             \u001b[0max\u001b[0m\u001b[0;34m[\u001b[0m\u001b[0mi\u001b[0m\u001b[0;34m,\u001b[0m \u001b[0mj\u001b[0m\u001b[0;34m]\u001b[0m\u001b[0;34m.\u001b[0m\u001b[0mimshow\u001b[0m\u001b[0;34m(\u001b[0m\u001b[0mim\u001b[0m\u001b[0;34m,\u001b[0m \u001b[0mresample\u001b[0m\u001b[0;34m=\u001b[0m\u001b[0;32mTrue\u001b[0m\u001b[0;34m)\u001b[0m\u001b[0;34m\u001b[0m\u001b[0;34m\u001b[0m\u001b[0m\n\u001b[1;32m     11\u001b[0m             \u001b[0max\u001b[0m\u001b[0;34m[\u001b[0m\u001b[0mi\u001b[0m\u001b[0;34m,\u001b[0m \u001b[0mj\u001b[0m\u001b[0;34m]\u001b[0m\u001b[0;34m.\u001b[0m\u001b[0mset_title\u001b[0m\u001b[0;34m(\u001b[0m\u001b[0mcat\u001b[0m\u001b[0;34m,\u001b[0m \u001b[0mfontsize\u001b[0m\u001b[0;34m=\u001b[0m\u001b[0;36m9\u001b[0m\u001b[0;34m)\u001b[0m\u001b[0;34m\u001b[0m\u001b[0;34m\u001b[0m\u001b[0m\n",
      "\u001b[0;32m~/anaconda3/envs/trapper-analytics/lib/python3.8/site-packages/PIL/Image.py\u001b[0m in \u001b[0;36mopen\u001b[0;34m(fp, mode, formats)\u001b[0m\n\u001b[1;32m   2889\u001b[0m \u001b[0;34m\u001b[0m\u001b[0m\n\u001b[1;32m   2890\u001b[0m     \u001b[0;32mif\u001b[0m \u001b[0mfilename\u001b[0m\u001b[0;34m:\u001b[0m\u001b[0;34m\u001b[0m\u001b[0;34m\u001b[0m\u001b[0m\n\u001b[0;32m-> 2891\u001b[0;31m         \u001b[0mfp\u001b[0m \u001b[0;34m=\u001b[0m \u001b[0mbuiltins\u001b[0m\u001b[0;34m.\u001b[0m\u001b[0mopen\u001b[0m\u001b[0;34m(\u001b[0m\u001b[0mfilename\u001b[0m\u001b[0;34m,\u001b[0m \u001b[0;34m\"rb\"\u001b[0m\u001b[0;34m)\u001b[0m\u001b[0;34m\u001b[0m\u001b[0;34m\u001b[0m\u001b[0m\n\u001b[0m\u001b[1;32m   2892\u001b[0m         \u001b[0mexclusive_fp\u001b[0m \u001b[0;34m=\u001b[0m \u001b[0;32mTrue\u001b[0m\u001b[0;34m\u001b[0m\u001b[0;34m\u001b[0m\u001b[0m\n\u001b[1;32m   2893\u001b[0m \u001b[0;34m\u001b[0m\u001b[0m\n",
      "\u001b[0;31mFileNotFoundError\u001b[0m: [Errno 2] No such file or directory: 'cct_images/test/5900a2f8-23d2-11e8-a6a3-ec086b02610b.jpg'"
     ]
    },
    {
     "data": {
      "image/png": "[encoded data removed]",
      "text/plain": [
       "<Figure size 648x4104 with 57 Axes>"
      ]
     },
     "metadata": {
      "needs_background": "light"
     },
     "output_type": "display_data"
    }
   ],
   "source": [
    "#when all photos will be downloaded then repeat\n",
    "IMAGE_PATH = PATH\n",
    "draw_category_images('label')\n",
    "\n"
   ]
  },
  {
   "cell_type": "code",
   "execution_count": 179,
   "metadata": {},
   "outputs": [],
   "source": [
    "class Metrics(Callback):\n",
    "    def on_train_begin(self, logs={}):\n",
    "        self.val_f1s = []\n",
    "        self.val_recalls = []\n",
    "        self.val_precisions = []\n",
    "\n",
    "    def on_epoch_end(self, epoch, logs={}):\n",
    "        X_val, y_val = self.validation_data[:2]\n",
    "        y_pred = self.model.predict(X_val)\n",
    "\n",
    "        y_pred_cat = keras.utils.to_categorical(\n",
    "            y_pred.argmax(axis=1),\n",
    "            num_classes=14\n",
    "        )\n",
    "\n",
    "        _val_f1 = f1_score(y_val, y_pred_cat, average='macro')\n",
    "        _val_recall = recall_score(y_val, y_pred_cat, average='macro')\n",
    "        _val_precision = precision_score(y_val, y_pred_cat, average='macro')\n",
    "\n",
    "        self.val_f1s.append(_val_f1)\n",
    "        self.val_recalls.append(_val_recall)\n",
    "        self.val_precisions.append(_val_precision)\n",
    "\n",
    "        print((f\"val_f1: {_val_f1:.4f}\"\n",
    "               f\" — val_precision: {_val_precision:.4f}\"\n",
    "               f\" — val_recall: {_val_recall:.4f}\"))\n",
    "\n",
    "        return\n",
    "\n",
    "f1_metrics = Metrics()"
   ]
  },
  {
   "cell_type": "markdown",
   "metadata": {},
   "source": [
    "https://github.com/liuzhuang13/DenseNet  - about DenseNet - I downloaded also the paper"
   ]
  },
  {
   "cell_type": "code",
   "execution_count": null,
   "metadata": {},
   "outputs": [],
   "source": [
    "model_densenet = DenseNet121(\n",
    "    weights='../input/densenet-keras/DenseNet-BC-121-32-no-top.h5',\n",
    "    include_top=False,\n",
    "    input_shape=(32,32,3)\n",
    ")\n",
    "\n"
   ]
  },
  {
   "cell_type": "code",
   "execution_count": null,
   "metadata": {},
   "outputs": [],
   "source": []
  },
  {
   "cell_type": "code",
   "execution_count": null,
   "metadata": {},
   "outputs": [],
   "source": []
  },
  {
   "cell_type": "code",
   "execution_count": null,
   "metadata": {},
   "outputs": [],
   "source": []
  }
 ],
 "metadata": {
  "kernelspec": {
   "display_name": "trapper-analytics",
   "language": "python",
   "name": "trapper-analytics"
  },
  "language_info": {
   "codemirror_mode": {
    "name": "ipython",
    "version": 3
   },
   "file_extension": ".py",
   "mimetype": "text/x-python",
   "name": "python",
   "nbconvert_exporter": "python",
   "pygments_lexer": "ipython3",
   "version": "3.8.5"
  }
 },
 "nbformat": 4,
 "nbformat_minor": 4
}
